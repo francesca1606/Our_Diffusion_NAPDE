{
 "cells": [
  {
   "cell_type": "code",
   "execution_count": 1,
   "id": "9561eb81",
   "metadata": {},
   "outputs": [],
   "source": [
    "import torch"
   ]
  },
  {
   "cell_type": "code",
   "execution_count": null,
   "id": "22a7e131",
   "metadata": {},
   "outputs": [],
   "source": [
    "\n",
    "with torch.no_grad():\n",
    "    # Load the tensor from the file\n",
    "    t = torch.load('/path/to/acceleration/data.pt')\n",
    "    fc = torch.load('/path/to/fc/data.pth')\n"
   ]
  },
  {
   "cell_type": "code",
   "execution_count": 3,
   "id": "73cc1f41",
   "metadata": {},
   "outputs": [
    {
     "name": "stdout",
     "output_type": "stream",
     "text": [
      "torch.float64\n",
      "torch.float64\n"
     ]
    }
   ],
   "source": [
    "print(t.dtype)\n",
    "print(fc.dtype)"
   ]
  },
  {
   "cell_type": "code",
   "execution_count": 5,
   "id": "005f8029",
   "metadata": {},
   "outputs": [],
   "source": [
    "def count_nan_samples(tensor):\n",
    "    \"\"\"\n",
    "    Counts how many samples (along dim 0) contain at least one NaN value.\n",
    "\n",
    "    Args:\n",
    "        tensor (torch.Tensor): A tensor of shape (n_samples, channels, datapoints)\n",
    "\n",
    "    Returns:\n",
    "        int: Number of samples containing any NaNs\n",
    "    \"\"\"\n",
    "    # Check for NaNs in the tensor\n",
    "    nan_mask = torch.isnan(tensor)\n",
    "\n",
    "    # Reduce across channels and datapoints to find any NaNs per sample\n",
    "    samples_with_nan = nan_mask.any(dim=(1,2))\n",
    "\n",
    "    # Count how many samples have at least one NaN\n",
    "    num_nan_samples = samples_with_nan.sum().item()\n",
    "\n",
    "    return num_nan_samples"
   ]
  },
  {
   "cell_type": "code",
   "execution_count": null,
   "id": "cefd8714",
   "metadata": {},
   "outputs": [],
   "source": [
    "# Step 0: Count NaNs\n",
    "num_nans = torch.sum(torch.isnan(fc)).item()\n",
    "print(num_nans)\n",
    "\n",
    "# Step 1: Identify rows with NaNs\n",
    "nan_mask = torch.isnan(fc).any(dim=1)  # Check for NaNs along rows\n",
    "\n",
    "# Step 2: Filter out rows with NaNs\n",
    "fc = fc[~nan_mask]  # Keep only rows without NaNs\n",
    "\n",
    "# Step 3: Count remaining NaNs (should be 0)\n",
    "num_nans = torch.sum(torch.isnan(fc)).item()\n",
    "print(num_nans)"
   ]
  },
  {
   "cell_type": "code",
   "execution_count": 7,
   "id": "7b2ab144",
   "metadata": {},
   "outputs": [],
   "source": [
    "t = t[~nan_mask,:,:]"
   ]
  },
  {
   "cell_type": "code",
   "execution_count": 7,
   "id": "8366ae70",
   "metadata": {},
   "outputs": [
    {
     "name": "stdout",
     "output_type": "stream",
     "text": [
      "0\n"
     ]
    }
   ],
   "source": [
    "print(count_nan_samples(t))"
   ]
  },
  {
   "cell_type": "code",
   "execution_count": 8,
   "id": "1fbce8f6",
   "metadata": {},
   "outputs": [
    {
     "name": "stdout",
     "output_type": "stream",
     "text": [
      "tensor([24504, 41389])\n"
     ]
    }
   ],
   "source": [
    " # Check for NaNs in the tensor\n",
    "nan_mask = torch.isnan(t)\n",
    "\n",
    "# Reduce across channels and datapoints to find any NaNs per sample\n",
    "samples_with_nan = nan_mask.any(dim=1).any(dim=1)\n",
    "\n",
    "# Get the indices where the values are True\n",
    "indices = torch.nonzero(samples_with_nan, as_tuple=True)[0]\n",
    "\n",
    "print(indices)"
   ]
  },
  {
   "cell_type": "code",
   "execution_count": 9,
   "id": "7d13a33a",
   "metadata": {},
   "outputs": [],
   "source": [
    "t = t[~samples_with_nan,:,:]\n",
    "fc = fc[~samples_with_nan,:]"
   ]
  },
  {
   "cell_type": "code",
   "execution_count": null,
   "id": "3b2199e8",
   "metadata": {},
   "outputs": [],
   "source": [
    "print(t.shape)\n",
    "print(count_nan_samples(t))\n",
    "print(fc.shape)\n",
    "\n",
    "# The output of this cell should look like:\n",
    "# torch.Size([n, 3, 6000])\n",
    "# 0\n",
    "# torch.Size([n, 1]"
   ]
  },
  {
   "cell_type": "code",
   "execution_count": null,
   "id": "5f3d0319",
   "metadata": {},
   "outputs": [],
   "source": [
    "torch.save(t, '/path/to/save/acceleration.pt')\n",
    "torch.save(fc, '/path/to/save/fc.pt')"
   ]
  }
 ],
 "metadata": {
  "kernelspec": {
   "display_name": "torch-env",
   "language": "python",
   "name": "python3"
  },
  "language_info": {
   "codemirror_mode": {
    "name": "ipython",
    "version": 3
   },
   "file_extension": ".py",
   "mimetype": "text/x-python",
   "name": "python",
   "nbconvert_exporter": "python",
   "pygments_lexer": "ipython3",
   "version": "3.12.9"
  }
 },
 "nbformat": 4,
 "nbformat_minor": 5
}
